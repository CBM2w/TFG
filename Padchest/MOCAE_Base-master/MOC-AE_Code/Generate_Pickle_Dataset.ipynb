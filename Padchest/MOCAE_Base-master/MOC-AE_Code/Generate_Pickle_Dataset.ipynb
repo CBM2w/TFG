{
 "cells": [
  {
   "cell_type": "code",
   "execution_count": 1,
   "metadata": {
    "ExecuteTime": {
     "end_time": "2025-03-02T09:16:36.440872Z",
     "start_time": "2025-03-02T09:16:36.423806Z"
    }
   },
   "outputs": [],
   "source": [
    "%reload_ext autoreload\n",
    "%autoreload 2"
   ]
  },
  {
   "cell_type": "code",
   "execution_count": 2,
   "metadata": {
    "ExecuteTime": {
     "end_time": "2025-03-09T11:28:34.666794Z",
     "start_time": "2025-03-09T11:28:33.487900Z"
    }
   },
   "outputs": [],
   "source": [
    "import json, pickle\n",
    "\n",
    "from dataset.dataset_padchest import *"
   ]
  },
  {
   "cell_type": "code",
   "execution_count": 16,
   "metadata": {
    "ExecuteTime": {
     "end_time": "2025-03-02T09:28:11.805227Z",
     "start_time": "2025-03-02T09:28:11.749290Z"
    }
   },
   "outputs": [],
   "source": [
    "with open('./dataset/dataset_config.json', 'r') as f:\n",
    "    dataset_path = json.load(f)['dataset_path']"
   ]
  },
  {
   "cell_type": "code",
   "execution_count": null,
   "metadata": {
    "ExecuteTime": {
     "end_time": "2025-03-02T10:04:01.866378Z",
     "start_time": "2025-03-02T10:03:24.248863Z"
    },
    "scrolled": true
   },
   "outputs": [],
   "source": [
    "data = Dataset(config={})\n",
    "data.load_data(verbose=1)"
   ]
  },
  {
   "cell_type": "code",
   "execution_count": null,
   "metadata": {
    "ExecuteTime": {
     "end_time": "2025-03-02T09:24:18.212699Z",
     "start_time": "2025-03-02T09:24:18.189654Z"
    }
   },
   "outputs": [],
   "source": [
    "with open(dataset_path + 'data_padchest_4labels_cropped.pkl', 'wb') as f:\n",
    "    pickle.dump(data, f)"
   ]
  },
  {
   "cell_type": "code",
   "execution_count": null,
   "metadata": {},
   "outputs": [],
   "source": []
  }
 ],
 "metadata": {
  "accelerator": "GPU",
  "colab": {
   "authorship_tag": "ABX9TyOWnpEtbtBYdwzbkV75yS8R",
   "collapsed_sections": [],
   "name": "Autoencoder CBIR.ipynb",
   "provenance": []
  },
  "kernelspec": {
   "display_name": "Python 3",
   "language": "python",
   "name": "python3"
  },
  "language_info": {
   "codemirror_mode": {
    "name": "ipython",
    "version": 3
   },
   "file_extension": ".py",
   "mimetype": "text/x-python",
   "name": "python",
   "nbconvert_exporter": "python",
   "pygments_lexer": "ipython3",
   "version": "3.8.10"
  },
  "toc": {
   "base_numbering": 1,
   "nav_menu": {},
   "number_sections": false,
   "sideBar": true,
   "skip_h1_title": false,
   "title_cell": "Table of Contents",
   "title_sidebar": "Contents",
   "toc_cell": false,
   "toc_position": {},
   "toc_section_display": true,
   "toc_window_display": false
  },
  "varInspector": {
   "cols": {
    "lenName": 16,
    "lenType": 16,
    "lenVar": 40
   },
   "kernels_config": {
    "python": {
     "delete_cmd_postfix": "",
     "delete_cmd_prefix": "del ",
     "library": "var_list.py",
     "varRefreshCmd": "print(var_dic_list())"
    },
    "r": {
     "delete_cmd_postfix": ") ",
     "delete_cmd_prefix": "rm(",
     "library": "var_list.r",
     "varRefreshCmd": "cat(var_dic_list()) "
    }
   },
   "types_to_exclude": [
    "module",
    "function",
    "builtin_function_or_method",
    "instance",
    "_Feature"
   ],
   "window_display": false
  }
 },
 "nbformat": 4,
 "nbformat_minor": 1
}
