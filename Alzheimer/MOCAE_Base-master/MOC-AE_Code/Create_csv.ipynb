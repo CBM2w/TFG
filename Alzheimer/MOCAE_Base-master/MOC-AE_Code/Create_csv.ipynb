{
 "cells": [
  {
   "cell_type": "code",
   "execution_count": 3,
   "id": "8dc6f291",
   "metadata": {
    "ExecuteTime": {
     "end_time": "2025-03-29T17:20:38.508565Z",
     "start_time": "2025-03-29T17:20:38.268783Z"
    }
   },
   "outputs": [],
   "source": [
    "import os\n",
    "import csv\n",
    "import glob\n",
    "import pandas as pd"
   ]
  },
  {
   "cell_type": "markdown",
   "id": "c6c57be9",
   "metadata": {},
   "source": [
    "#### Dataset original"
   ]
  },
  {
   "cell_type": "code",
   "execution_count": 4,
   "id": "aef34840",
   "metadata": {
    "ExecuteTime": {
     "end_time": "2025-03-29T17:20:39.411682Z",
     "start_time": "2025-03-29T17:20:39.085877Z"
    }
   },
   "outputs": [],
   "source": [
    "train_path = '/workspace/Alzheimer/alzheimer_dataset/train/'\n",
    "val_path = '/workspace/Alzheimer/alzheimer_dataset/val/'\n",
    "\n",
    "data = []\n",
    "image_counts = {}\n",
    "\n",
    "def extract_images_from_directory(directory_path, label, dataset_type):\n",
    "    images = glob.glob(os.path.join(directory_path, '*.*'))  \n",
    "    \n",
    "    for image_path in images:\n",
    "        image_name = os.path.basename(image_path)\n",
    "\n",
    "        image_dir = f\"{dataset_type}/{label}\"\n",
    "        \n",
    "        label_list = [label]  \n",
    "        \n",
    "        data.append([image_name, label_list, image_dir])  \n",
    "\n",
    "        if label in image_counts:\n",
    "            image_counts[label] += 1\n",
    "        else:\n",
    "            image_counts[label] = 1\n",
    "\n",
    "for main_path, dataset_type in [(train_path, 'train'), (val_path, 'val')]:\n",
    "    for label in os.listdir(main_path):\n",
    "        folder_path = os.path.join(main_path, label)\n",
    "        \n",
    "        if os.path.isdir(folder_path):\n",
    "            extract_images_from_directory(folder_path, label, dataset_type)\n",
    "\n",
    "alzheimer_dataset = pd.DataFrame(data, columns=['ImageID', 'Labels', 'ImageDir'])\n",
    "\n",
    "alzheimer_dataset['Labels'] = alzheimer_dataset['Labels'].apply(lambda x: ast.literal_eval(str(x)) if isinstance(x, str) else x)"
   ]
  },
  {
   "cell_type": "code",
   "execution_count": 9,
   "id": "f429963e",
   "metadata": {
    "ExecuteTime": {
     "end_time": "2025-03-09T12:34:57.214825Z",
     "start_time": "2025-03-09T12:34:57.210829Z"
    }
   },
   "outputs": [
    {
     "name": "stdout",
     "output_type": "stream",
     "text": [
      "Conteo de imágenes por tipo:\n",
      "ModerateDemented: 6528 imágenes\n",
      "NonDemented: 12800 imágenes\n",
      "VeryMildDemented: 11200 imágenes\n",
      "MildDemented: 9856 imágenes\n"
     ]
    }
   ],
   "source": [
    "print(\"Conteo de imágenes por tipo:\")\n",
    "for label, count in image_counts.items():\n",
    "    print(f\"{label}: {count} imágenes\")"
   ]
  },
  {
   "cell_type": "code",
   "execution_count": 10,
   "id": "ba015b7f",
   "metadata": {
    "ExecuteTime": {
     "end_time": "2025-03-09T12:34:58.012389Z",
     "start_time": "2025-03-09T12:34:57.998272Z"
    }
   },
   "outputs": [
    {
     "data": {
      "text/html": [
       "<div>\n",
       "<style scoped>\n",
       "    .dataframe tbody tr th:only-of-type {\n",
       "        vertical-align: middle;\n",
       "    }\n",
       "\n",
       "    .dataframe tbody tr th {\n",
       "        vertical-align: top;\n",
       "    }\n",
       "\n",
       "    .dataframe thead th {\n",
       "        text-align: right;\n",
       "    }\n",
       "</style>\n",
       "<table border=\"1\" class=\"dataframe\">\n",
       "  <thead>\n",
       "    <tr style=\"text-align: right;\">\n",
       "      <th></th>\n",
       "      <th>ImageID</th>\n",
       "      <th>Labels</th>\n",
       "      <th>ImageDir</th>\n",
       "    </tr>\n",
       "  </thead>\n",
       "  <tbody>\n",
       "    <tr>\n",
       "      <th>0</th>\n",
       "      <td>804a7a1d-771e-4ba4-8d42-426c46ebfb2c.jpg</td>\n",
       "      <td>[ModerateDemented]</td>\n",
       "      <td>train/ModerateDemented</td>\n",
       "    </tr>\n",
       "    <tr>\n",
       "      <th>1</th>\n",
       "      <td>54565cfb-4c4c-4644-845a-2895f94483bb.jpg</td>\n",
       "      <td>[ModerateDemented]</td>\n",
       "      <td>train/ModerateDemented</td>\n",
       "    </tr>\n",
       "    <tr>\n",
       "      <th>2</th>\n",
       "      <td>4cd73bda-4773-464d-87be-f619c5790ffe.jpg</td>\n",
       "      <td>[ModerateDemented]</td>\n",
       "      <td>train/ModerateDemented</td>\n",
       "    </tr>\n",
       "    <tr>\n",
       "      <th>3</th>\n",
       "      <td>0ad3376f-69f0-4603-946a-c8095214cbcb.jpg</td>\n",
       "      <td>[ModerateDemented]</td>\n",
       "      <td>train/ModerateDemented</td>\n",
       "    </tr>\n",
       "    <tr>\n",
       "      <th>4</th>\n",
       "      <td>e40c2582-742a-4770-9969-808c25c5a5c9.jpg</td>\n",
       "      <td>[ModerateDemented]</td>\n",
       "      <td>train/ModerateDemented</td>\n",
       "    </tr>\n",
       "    <tr>\n",
       "      <th>...</th>\n",
       "      <td>...</td>\n",
       "      <td>...</td>\n",
       "      <td>...</td>\n",
       "    </tr>\n",
       "    <tr>\n",
       "      <th>40379</th>\n",
       "      <td>mildDem315.jpg</td>\n",
       "      <td>[MildDemented]</td>\n",
       "      <td>val/MildDemented</td>\n",
       "    </tr>\n",
       "    <tr>\n",
       "      <th>40380</th>\n",
       "      <td>mildDem510.jpg</td>\n",
       "      <td>[MildDemented]</td>\n",
       "      <td>val/MildDemented</td>\n",
       "    </tr>\n",
       "    <tr>\n",
       "      <th>40381</th>\n",
       "      <td>mildDem5.jpg</td>\n",
       "      <td>[MildDemented]</td>\n",
       "      <td>val/MildDemented</td>\n",
       "    </tr>\n",
       "    <tr>\n",
       "      <th>40382</th>\n",
       "      <td>26 (22).jpg</td>\n",
       "      <td>[MildDemented]</td>\n",
       "      <td>val/MildDemented</td>\n",
       "    </tr>\n",
       "    <tr>\n",
       "      <th>40383</th>\n",
       "      <td>mildDem10.jpg</td>\n",
       "      <td>[MildDemented]</td>\n",
       "      <td>val/MildDemented</td>\n",
       "    </tr>\n",
       "  </tbody>\n",
       "</table>\n",
       "<p>40384 rows × 3 columns</p>\n",
       "</div>"
      ],
      "text/plain": [
       "                                        ImageID              Labels  \\\n",
       "0      804a7a1d-771e-4ba4-8d42-426c46ebfb2c.jpg  [ModerateDemented]   \n",
       "1      54565cfb-4c4c-4644-845a-2895f94483bb.jpg  [ModerateDemented]   \n",
       "2      4cd73bda-4773-464d-87be-f619c5790ffe.jpg  [ModerateDemented]   \n",
       "3      0ad3376f-69f0-4603-946a-c8095214cbcb.jpg  [ModerateDemented]   \n",
       "4      e40c2582-742a-4770-9969-808c25c5a5c9.jpg  [ModerateDemented]   \n",
       "...                                         ...                 ...   \n",
       "40379                            mildDem315.jpg      [MildDemented]   \n",
       "40380                            mildDem510.jpg      [MildDemented]   \n",
       "40381                              mildDem5.jpg      [MildDemented]   \n",
       "40382                               26 (22).jpg      [MildDemented]   \n",
       "40383                             mildDem10.jpg      [MildDemented]   \n",
       "\n",
       "                     ImageDir  \n",
       "0      train/ModerateDemented  \n",
       "1      train/ModerateDemented  \n",
       "2      train/ModerateDemented  \n",
       "3      train/ModerateDemented  \n",
       "4      train/ModerateDemented  \n",
       "...                       ...  \n",
       "40379        val/MildDemented  \n",
       "40380        val/MildDemented  \n",
       "40381        val/MildDemented  \n",
       "40382        val/MildDemented  \n",
       "40383        val/MildDemented  \n",
       "\n",
       "[40384 rows x 3 columns]"
      ]
     },
     "execution_count": 10,
     "metadata": {},
     "output_type": "execute_result"
    }
   ],
   "source": [
    "alzheimer_dataset"
   ]
  },
  {
   "cell_type": "code",
   "execution_count": 11,
   "id": "7e360765",
   "metadata": {
    "ExecuteTime": {
     "end_time": "2025-03-09T12:35:02.307040Z",
     "start_time": "2025-03-09T12:35:02.141222Z"
    }
   },
   "outputs": [
    {
     "name": "stdout",
     "output_type": "stream",
     "text": [
      "CSV creado con éxito.\n"
     ]
    }
   ],
   "source": [
    "alzheimer_dataset.to_csv('/workspace/Alzheimer/alzheimer_dataset/alzheimer_dataset.csv', index=False)\n",
    "\n",
    "print(\"CSV creado con éxito.\")"
   ]
  },
  {
   "cell_type": "markdown",
   "id": "5980b70b",
   "metadata": {},
   "source": [
    "#### Dataset undersampling"
   ]
  },
  {
   "cell_type": "code",
   "execution_count": 14,
   "id": "65e2b4a4",
   "metadata": {
    "ExecuteTime": {
     "end_time": "2025-03-29T17:28:17.826563Z",
     "start_time": "2025-03-29T17:28:17.762149Z"
    }
   },
   "outputs": [],
   "source": [
    "# Subconjunto del 25% del total\n",
    "subset_fraction = 0.25  \n",
    "\n",
    "total_images = len(alzheimer_dataset)\n",
    "subset_size = int(total_images * subset_fraction)\n",
    "\n",
    "# Número de imágenes por etiqueta en el dataset original\n",
    "label_counts = {\n",
    "    \"ModerateDemented\": 6528,\n",
    "    \"NonDemented\": 12800,\n",
    "    \"VeryMildDemented\": 11200,\n",
    "    \"MildDemented\": 9856\n",
    "}\n",
    "\n",
    "subset_counts = {label: int(count * subset_fraction) for label, count in label_counts.items()}\n",
    "\n",
    "alzheimer_dataset_undersampling = pd.DataFrame(columns=alzheimer_dataset.columns)\n",
    "\n",
    "for label, count in subset_counts.items():\n",
    "    subset = alzheimer_dataset[alzheimer_dataset[\"Labels\"].apply(lambda x: label in x)].sample(n=count, random_state=42)\n",
    "    alzheimer_dataset_undersampling = pd.concat([alzheimer_dataset_undersampling, subset])\n",
    "    \n",
    "alzheimer_dataset_undersampling = alzheimer_dataset_undersampling.reset_index(drop=True)"
   ]
  },
  {
   "cell_type": "code",
   "execution_count": 15,
   "id": "74f5987e",
   "metadata": {
    "ExecuteTime": {
     "end_time": "2025-03-29T17:28:18.425263Z",
     "start_time": "2025-03-29T17:28:18.412046Z"
    }
   },
   "outputs": [
    {
     "name": "stdout",
     "output_type": "stream",
     "text": [
      "[NonDemented]         3200\n",
      "[VeryMildDemented]    2800\n",
      "[MildDemented]        2464\n",
      "[ModerateDemented]    1632\n",
      "Name: Labels, dtype: int64\n"
     ]
    }
   ],
   "source": [
    "print(alzheimer_dataset_undersampling[\"Labels\"].value_counts())"
   ]
  },
  {
   "cell_type": "code",
   "execution_count": 16,
   "id": "23827645",
   "metadata": {
    "ExecuteTime": {
     "end_time": "2025-03-29T17:28:19.146456Z",
     "start_time": "2025-03-29T17:28:19.131776Z"
    }
   },
   "outputs": [
    {
     "data": {
      "text/html": [
       "<div>\n",
       "<style scoped>\n",
       "    .dataframe tbody tr th:only-of-type {\n",
       "        vertical-align: middle;\n",
       "    }\n",
       "\n",
       "    .dataframe tbody tr th {\n",
       "        vertical-align: top;\n",
       "    }\n",
       "\n",
       "    .dataframe thead th {\n",
       "        text-align: right;\n",
       "    }\n",
       "</style>\n",
       "<table border=\"1\" class=\"dataframe\">\n",
       "  <thead>\n",
       "    <tr style=\"text-align: right;\">\n",
       "      <th></th>\n",
       "      <th>ImageID</th>\n",
       "      <th>Labels</th>\n",
       "      <th>ImageDir</th>\n",
       "    </tr>\n",
       "  </thead>\n",
       "  <tbody>\n",
       "    <tr>\n",
       "      <th>0</th>\n",
       "      <td>74383376-cacd-45da-bfb8-6f0913de0c40.jpg</td>\n",
       "      <td>[ModerateDemented]</td>\n",
       "      <td>train/ModerateDemented</td>\n",
       "    </tr>\n",
       "    <tr>\n",
       "      <th>1</th>\n",
       "      <td>deb6815b-5e5c-4810-81d3-251ac7d37101.jpg</td>\n",
       "      <td>[ModerateDemented]</td>\n",
       "      <td>train/ModerateDemented</td>\n",
       "    </tr>\n",
       "    <tr>\n",
       "      <th>2</th>\n",
       "      <td>2a3bd8e5-7038-4592-94e0-dd92794ce31f.jpg</td>\n",
       "      <td>[ModerateDemented]</td>\n",
       "      <td>train/ModerateDemented</td>\n",
       "    </tr>\n",
       "    <tr>\n",
       "      <th>3</th>\n",
       "      <td>3a642c50-2581-46a5-935f-319c3b979e15.jpg</td>\n",
       "      <td>[ModerateDemented]</td>\n",
       "      <td>train/ModerateDemented</td>\n",
       "    </tr>\n",
       "    <tr>\n",
       "      <th>4</th>\n",
       "      <td>08dd5364-9105-415b-b943-998d0e733382.jpg</td>\n",
       "      <td>[ModerateDemented]</td>\n",
       "      <td>train/ModerateDemented</td>\n",
       "    </tr>\n",
       "    <tr>\n",
       "      <th>...</th>\n",
       "      <td>...</td>\n",
       "      <td>...</td>\n",
       "      <td>...</td>\n",
       "    </tr>\n",
       "    <tr>\n",
       "      <th>10091</th>\n",
       "      <td>8bd67dbe-d394-48a1-bf56-e77cd79f7730.jpg</td>\n",
       "      <td>[MildDemented]</td>\n",
       "      <td>train/MildDemented</td>\n",
       "    </tr>\n",
       "    <tr>\n",
       "      <th>10092</th>\n",
       "      <td>3af9baae-c868-42a4-95e7-654ac304623c.jpg</td>\n",
       "      <td>[MildDemented]</td>\n",
       "      <td>train/MildDemented</td>\n",
       "    </tr>\n",
       "    <tr>\n",
       "      <th>10093</th>\n",
       "      <td>4a8b1ded-6d39-4f93-a85f-ff6be8377f7f.jpg</td>\n",
       "      <td>[MildDemented]</td>\n",
       "      <td>train/MildDemented</td>\n",
       "    </tr>\n",
       "    <tr>\n",
       "      <th>10094</th>\n",
       "      <td>6d18e54b-480f-490e-a407-a6849ec0587c.jpg</td>\n",
       "      <td>[MildDemented]</td>\n",
       "      <td>train/MildDemented</td>\n",
       "    </tr>\n",
       "    <tr>\n",
       "      <th>10095</th>\n",
       "      <td>fc486cfc-2efa-4502-be74-f0026ba9dfbb.jpg</td>\n",
       "      <td>[MildDemented]</td>\n",
       "      <td>train/MildDemented</td>\n",
       "    </tr>\n",
       "  </tbody>\n",
       "</table>\n",
       "<p>10096 rows × 3 columns</p>\n",
       "</div>"
      ],
      "text/plain": [
       "                                        ImageID              Labels  \\\n",
       "0      74383376-cacd-45da-bfb8-6f0913de0c40.jpg  [ModerateDemented]   \n",
       "1      deb6815b-5e5c-4810-81d3-251ac7d37101.jpg  [ModerateDemented]   \n",
       "2      2a3bd8e5-7038-4592-94e0-dd92794ce31f.jpg  [ModerateDemented]   \n",
       "3      3a642c50-2581-46a5-935f-319c3b979e15.jpg  [ModerateDemented]   \n",
       "4      08dd5364-9105-415b-b943-998d0e733382.jpg  [ModerateDemented]   \n",
       "...                                         ...                 ...   \n",
       "10091  8bd67dbe-d394-48a1-bf56-e77cd79f7730.jpg      [MildDemented]   \n",
       "10092  3af9baae-c868-42a4-95e7-654ac304623c.jpg      [MildDemented]   \n",
       "10093  4a8b1ded-6d39-4f93-a85f-ff6be8377f7f.jpg      [MildDemented]   \n",
       "10094  6d18e54b-480f-490e-a407-a6849ec0587c.jpg      [MildDemented]   \n",
       "10095  fc486cfc-2efa-4502-be74-f0026ba9dfbb.jpg      [MildDemented]   \n",
       "\n",
       "                     ImageDir  \n",
       "0      train/ModerateDemented  \n",
       "1      train/ModerateDemented  \n",
       "2      train/ModerateDemented  \n",
       "3      train/ModerateDemented  \n",
       "4      train/ModerateDemented  \n",
       "...                       ...  \n",
       "10091      train/MildDemented  \n",
       "10092      train/MildDemented  \n",
       "10093      train/MildDemented  \n",
       "10094      train/MildDemented  \n",
       "10095      train/MildDemented  \n",
       "\n",
       "[10096 rows x 3 columns]"
      ]
     },
     "execution_count": 16,
     "metadata": {},
     "output_type": "execute_result"
    }
   ],
   "source": [
    "alzheimer_dataset_undersampling"
   ]
  },
  {
   "cell_type": "code",
   "execution_count": 17,
   "id": "e339ddcb",
   "metadata": {
    "ExecuteTime": {
     "end_time": "2025-03-29T17:28:20.197577Z",
     "start_time": "2025-03-29T17:28:20.144024Z"
    }
   },
   "outputs": [
    {
     "name": "stdout",
     "output_type": "stream",
     "text": [
      "CSV creado con éxito.\n"
     ]
    }
   ],
   "source": [
    "alzheimer_dataset_undersampling.to_csv('/workspace/Alzheimer/alzheimer_dataset/alzheimer_dataset_undersampling.csv', index=False)\n",
    "\n",
    "print(\"CSV creado con éxito.\")"
   ]
  }
 ],
 "metadata": {
  "kernelspec": {
   "display_name": "Python 3",
   "language": "python",
   "name": "python3"
  },
  "language_info": {
   "codemirror_mode": {
    "name": "ipython",
    "version": 3
   },
   "file_extension": ".py",
   "mimetype": "text/x-python",
   "name": "python",
   "nbconvert_exporter": "python",
   "pygments_lexer": "ipython3",
   "version": "3.8.10"
  },
  "toc": {
   "base_numbering": 1,
   "nav_menu": {},
   "number_sections": false,
   "sideBar": true,
   "skip_h1_title": false,
   "title_cell": "Table of Contents",
   "title_sidebar": "Contents",
   "toc_cell": false,
   "toc_position": {},
   "toc_section_display": true,
   "toc_window_display": false
  }
 },
 "nbformat": 4,
 "nbformat_minor": 5
}
