{
 "cells": [
  {
   "cell_type": "code",
   "execution_count": 9,
   "metadata": {
    "ExecuteTime": {
     "end_time": "2025-03-29T17:28:31.737627Z",
     "start_time": "2025-03-29T17:28:31.630059Z"
    }
   },
   "outputs": [],
   "source": [
    "%reload_ext autoreload\n",
    "%autoreload 2"
   ]
  },
  {
   "cell_type": "code",
   "execution_count": 10,
   "metadata": {
    "ExecuteTime": {
     "end_time": "2025-03-29T17:28:32.050520Z",
     "start_time": "2025-03-29T17:28:31.954857Z"
    }
   },
   "outputs": [],
   "source": [
    "import json, pickle\n",
    "\n",
    "from dataset.dataset_alzheimer import *"
   ]
  },
  {
   "cell_type": "code",
   "execution_count": 11,
   "metadata": {
    "ExecuteTime": {
     "end_time": "2025-03-29T17:28:32.711922Z",
     "start_time": "2025-03-29T17:28:32.618857Z"
    }
   },
   "outputs": [],
   "source": [
    "with open('./dataset/dataset_config.json', 'r') as f:\n",
    "    dataset_path = json.load(f)['dataset_path']"
   ]
  },
  {
   "cell_type": "code",
   "execution_count": 12,
   "metadata": {
    "ExecuteTime": {
     "end_time": "2025-03-29T17:29:10.861747Z",
     "start_time": "2025-03-29T17:28:33.287941Z"
    },
    "scrolled": true
   },
   "outputs": [
    {
     "name": "stdout",
     "output_type": "stream",
     "text": [
      "-----GENERATING DATAFRAME-----\n"
     ]
    },
    {
     "name": "stderr",
     "output_type": "stream",
     "text": [
      "Procesando 84/10096: : 44it [00:00, 436.88it/s]"
     ]
    },
    {
     "name": "stdout",
     "output_type": "stream",
     "text": [
      "\n",
      "---IMAGE LABELS---\n",
      "['NonDemented']         3200\n",
      "['VeryMildDemented']    2800\n",
      "['MildDemented']        2464\n",
      "['ModerateDemented']    1632\n",
      "Name: Labels, dtype: int64\n",
      "\n",
      "-----LOADING DATA FROM DF-----\n",
      "# Loading images\n"
     ]
    },
    {
     "name": "stderr",
     "output_type": "stream",
     "text": [
      "Procesando 10095/10096: : 10096it [00:23, 424.66it/s]\n"
     ]
    },
    {
     "name": "stdout",
     "output_type": "stream",
     "text": [
      "# Normalizing image pixels\n",
      "# Loading class weights\n",
      "# Splitting dataset\n",
      "\tDATA PARTITION\n",
      "\n",
      "X_train: (9087, 224, 224, 1)\n",
      "y_train: (9087, 4)\n",
      "X_val: (1009, 224, 224, 1)\n",
      "y_val: (1009, 4)\n"
     ]
    }
   ],
   "source": [
    "data = Dataset(config={})\n",
    "data.load_data(verbose=1)"
   ]
  },
  {
   "cell_type": "code",
   "execution_count": 14,
   "metadata": {
    "ExecuteTime": {
     "end_time": "2025-03-29T17:31:46.478157Z",
     "start_time": "2025-03-29T17:31:28.258782Z"
    }
   },
   "outputs": [],
   "source": [
    "with open(dataset_path + 'data_alzheimer_4labels_undersampling.pkl', 'wb') as f:\n",
    "    pickle.dump(data, f)"
   ]
  }
 ],
 "metadata": {
  "accelerator": "GPU",
  "colab": {
   "authorship_tag": "ABX9TyOWnpEtbtBYdwzbkV75yS8R",
   "collapsed_sections": [],
   "name": "Autoencoder CBIR.ipynb",
   "provenance": []
  },
  "kernelspec": {
   "display_name": "Python 3",
   "language": "python",
   "name": "python3"
  },
  "language_info": {
   "codemirror_mode": {
    "name": "ipython",
    "version": 3
   },
   "file_extension": ".py",
   "mimetype": "text/x-python",
   "name": "python",
   "nbconvert_exporter": "python",
   "pygments_lexer": "ipython3",
   "version": "3.8.10"
  },
  "toc": {
   "base_numbering": 1,
   "nav_menu": {},
   "number_sections": false,
   "sideBar": true,
   "skip_h1_title": false,
   "title_cell": "Table of Contents",
   "title_sidebar": "Contents",
   "toc_cell": false,
   "toc_position": {},
   "toc_section_display": true,
   "toc_window_display": false
  },
  "varInspector": {
   "cols": {
    "lenName": 16,
    "lenType": 16,
    "lenVar": 40
   },
   "kernels_config": {
    "python": {
     "delete_cmd_postfix": "",
     "delete_cmd_prefix": "del ",
     "library": "var_list.py",
     "varRefreshCmd": "print(var_dic_list())"
    },
    "r": {
     "delete_cmd_postfix": ") ",
     "delete_cmd_prefix": "rm(",
     "library": "var_list.r",
     "varRefreshCmd": "cat(var_dic_list()) "
    }
   },
   "types_to_exclude": [
    "module",
    "function",
    "builtin_function_or_method",
    "instance",
    "_Feature"
   ],
   "window_display": false
  }
 },
 "nbformat": 4,
 "nbformat_minor": 1
}
